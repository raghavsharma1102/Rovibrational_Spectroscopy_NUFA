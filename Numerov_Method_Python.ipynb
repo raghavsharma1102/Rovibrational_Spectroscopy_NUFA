{
 "cells": [
  {
   "cell_type": "code",
   "execution_count": 1,
   "metadata": {},
   "outputs": [],
   "source": [
    "import numpy as np\n",
    "from numpy import linalg as LA\n",
    "import pandas as pd\n",
    "import matplotlib.pyplot as plt\n",
    "from scipy.constants import physical_constants as constants, angstrom"
   ]
  },
  {
   "cell_type": "code",
   "execution_count": 6,
   "metadata": {},
   "outputs": [],
   "source": [
    "# Constants and Data\n",
    "hbar = 1973.269804\n",
    "inv_cm_to_eV = constants['inverse meter-electron volt relationship'][0]*100\n",
    "eV_to_inv_cm = constants['electron volt-inverse meter relationship'][0]/100\n",
    "\n",
    "molecular_data = pd.read_csv('data/molecular_data.csv', index_col='molecule')\n",
    "molecular_data['mu'] *= 9.3149410372e8\n",
    "# print(molecular_data)"
   ]
  },
  {
   "cell_type": "code",
   "execution_count": null,
   "metadata": {},
   "outputs": [],
   "source": [
    "molecule = 'CO'\n",
    "# Rotational Number\n",
    "l = 20\n",
    "\n",
    "molecular_parameters = (D_e, r_e, mu, alpha) = molecular_data.loc[molecule]"
   ]
  },
  {
   "cell_type": "code",
   "execution_count": 4,
   "metadata": {},
   "outputs": [],
   "source": [
    "# Potential\n",
    "def modified_morse(r):\n",
    "    x = (r - r_e) / r\n",
    "    potential = D_e * (np.exp(-2*alpha*x) - 2*np.exp(-alpha*x)) + ((l*(l+1) * hbar**2) / (2* mu * np.power(r,2)))\n",
    "    return potential"
   ]
  },
  {
   "cell_type": "code",
   "execution_count": 5,
   "metadata": {},
   "outputs": [],
   "source": [
    "step = 0.001\n",
    "r0, rf = 0.6, 5-step\n",
    "\n",
    "r_vals = np.arange(r0, rf, step)\n",
    "N = len(r_vals)"
   ]
  },
  {
   "cell_type": "code",
   "execution_count": 6,
   "metadata": {},
   "outputs": [],
   "source": [
    "# B-Matrix\n",
    "B = np.identity(N, dtype=float) * 10\n",
    "B += np.diag(np.ones(N-1), 1)\n",
    "B += np.diag(np.ones(N-1), -1)\n",
    "B /= 12\n",
    "\n",
    "# A-Matrix\n",
    "A = np.identity(N, dtype=float) * -2\n",
    "A += np.diag(np.ones(N-1), 1)\n",
    "A += np.diag(np.ones(N-1), -1)\n",
    "A *= (-(hbar**2) / (2 * mu * step**2))\n",
    "\n",
    "# Potential Matrix\n",
    "V = np.identity(N, dtype=float)\n",
    "np.fill_diagonal(V, modified_morse(r_vals))\n",
    "\n",
    "# Hamiltonian Matrix\n",
    "H = np.matmul(LA.inv(B), A) + V"
   ]
  },
  {
   "cell_type": "code",
   "execution_count": 7,
   "metadata": {},
   "outputs": [],
   "source": [
    "E_vals, psi_vals = LA.eig(H)\n",
    "\n",
    "# Keep only negative eigenvalues and corresponding eigenvectors\n",
    "E_vals_pos = list(np.where(E_vals<0)[0])\n",
    "E_vals = E_vals[E_vals_pos]\n",
    "psi_vals = psi_vals[:,E_vals_pos]\n",
    "\n",
    "# Sort in descending order (most negative eigenvalues to least negative)\n",
    "sorted_E_vals_pos = np.argsort(E_vals)\n",
    "E_vals = E_vals[sorted_E_vals_pos]\n",
    "psi_vals = psi_vals[:,sorted_E_vals_pos]"
   ]
  },
  {
   "cell_type": "code",
   "execution_count": 8,
   "metadata": {},
   "outputs": [
    {
     "name": "stdout",
     "output_type": "stream",
     "text": [
      "0   -10.99255\n",
      "1   -10.73378\n",
      "2   -10.48298\n",
      "3   -10.23994\n",
      "4   -10.00440\n",
      "5    -9.77614\n",
      "6    -9.55494\n",
      "7    -9.34059\n",
      "8    -9.13286\n",
      "9    -8.93156\n",
      "Name: CO, dtype: float64\n"
     ]
    }
   ],
   "source": [
    "# Eigenvalues data\n",
    "eigenvalues = pd.Series(np.round(E_vals, 5), name=f'{molecule}')\n",
    "\n",
    "# Eigenvalues are sorted\n",
    "print(eigenvalues[:10])"
   ]
  },
  {
   "cell_type": "code",
   "execution_count": 9,
   "metadata": {},
   "outputs": [
    {
     "data": {
      "text/plain": [
       "0     -88660.895009\n",
       "1     -86573.774204\n",
       "2     -84550.935784\n",
       "3     -82590.685986\n",
       "4     -80690.927767\n",
       "           ...     \n",
       "159    -1841.766958\n",
       "160    -1403.969233\n",
       "161     -963.025946\n",
       "162     -519.017752\n",
       "163      -71.944652\n",
       "Name: CO, Length: 164, dtype: float64"
      ]
     },
     "execution_count": 9,
     "metadata": {},
     "output_type": "execute_result"
    }
   ],
   "source": [
    "eigenvalues*eV_to_inv_cm"
   ]
  },
  {
   "cell_type": "code",
   "execution_count": null,
   "metadata": {},
   "outputs": [],
   "source": []
  }
 ],
 "metadata": {
  "kernelspec": {
   "display_name": "Python 3",
   "language": "python",
   "name": "python3"
  },
  "language_info": {
   "codemirror_mode": {
    "name": "ipython",
    "version": 3
   },
   "file_extension": ".py",
   "mimetype": "text/x-python",
   "name": "python",
   "nbconvert_exporter": "python",
   "pygments_lexer": "ipython3",
   "version": "3.13.1"
  }
 },
 "nbformat": 4,
 "nbformat_minor": 2
}
